{
 "cells": [
  {
   "cell_type": "markdown",
   "id": "0f6148f6-c1d3-43b0-9672-793da29fbd6a",
   "metadata": {},
   "source": [
    "# Wine Quality Prediction"
   ]
  },
  {
   "cell_type": "markdown",
   "id": "7dd8bb72-4309-4605-81be-dac7c1c9a349",
   "metadata": {},
   "source": [
    "### The wine quailty dataset is used to predict the wine quality when given the following features\n",
    "1. fixed acidity\t\n",
    "2. volatile acidity\t\n",
    "3. citric acid\t\n",
    "4. residual sugar\t\n",
    "5. chlorides\t\n",
    "6. free sulfur dioxide\t\n",
    "7. total sulfur dioxide\t\n",
    "8. density\t\n",
    "9. pH\t\n",
    "10. sulphates\t\n",
    "11. alcohol"
   ]
  },
  {
   "cell_type": "markdown",
   "id": "828c85e2-835f-470f-82a1-6e65ca3669e5",
   "metadata": {},
   "source": [
    "### We will be using the ElasticNet model of sklearn to model this regression problem. \n",
    "Let's import the relevant libraries."
   ]
  },
  {
   "cell_type": "code",
   "execution_count": null,
   "id": "b4b272ce-7ab0-4398-ba5c-ed5b89ee7a60",
   "metadata": {},
   "outputs": [],
   "source": [
    "import os\n",
    "import warnings\n",
    "import sys\n",
    "import argparse\n",
    "\n",
    "import pandas as pd\n",
    "import numpy as np\n",
    "from sklearn.metrics import mean_squared_error, mean_absolute_error, r2_score\n",
    "from sklearn.model_selection import train_test_split\n",
    "from sklearn.linear_model import ElasticNet\n",
    "\n",
    "import mlflow\n",
    "import mlflow.sklearn"
   ]
  },
  {
   "cell_type": "markdown",
   "id": "147603dd-270a-491d-bb18-69eb6f5f489b",
   "metadata": {},
   "source": [
    "The evaluation metric calculations\n",
    "1. rmse: root mean squared error\n",
    "2. mae : mean absolute error\n",
    "3. r2  : r2 score"
   ]
  },
  {
   "cell_type": "code",
   "execution_count": 17,
   "id": "b0c04f4c-2b72-4a14-aff8-848451c1b949",
   "metadata": {},
   "outputs": [],
   "source": [
    "def eval_metrics(actual, pred):\n",
    "    rmse = np.sqrt(mean_squared_error(actual, pred))\n",
    "    mae = mean_absolute_error(actual, pred)\n",
    "    r2 = r2_score(actual, pred)\n",
    "    return rmse, mae, r2"
   ]
  },
  {
   "cell_type": "code",
   "execution_count": 18,
   "id": "31907eca-76e9-409a-99a0-7938d948c7be",
   "metadata": {},
   "outputs": [],
   "source": [
    "np.random.seed(40)"
   ]
  },
  {
   "cell_type": "code",
   "execution_count": 19,
   "id": "d1e39742-ba7f-4207-a048-b1e965b6629e",
   "metadata": {},
   "outputs": [],
   "source": [
    "# alpha=0.5\n",
    "parser = argparse.ArgumentParser()\n",
    "parser.add_argument(\"--alpha\")\n",
    "parser.add_argument(\"--l1-ratio\")\n",
    "args = parser.parse_args(\"\")"
   ]
  },
  {
   "cell_type": "markdown",
   "id": "0b805c4f-5721-4335-9754-0d9faa811f80",
   "metadata": {},
   "source": [
    "Read the wine-quality csv file (make sure you're running this from the root of MLflow!)"
   ]
  },
  {
   "cell_type": "code",
   "execution_count": 22,
   "id": "e753967f-bef4-406f-8208-48b50561381f",
   "metadata": {},
   "outputs": [],
   "source": [
    "wine_path = \"wine-quality.csv\"\n",
    "data = pd.read_csv(wine_path)"
   ]
  },
  {
   "cell_type": "code",
   "execution_count": 23,
   "id": "00ea8d20-af84-4ba7-8fb7-3bc6872ba62a",
   "metadata": {},
   "outputs": [
    {
     "data": {
      "text/html": [
       "<div>\n",
       "<style scoped>\n",
       "    .dataframe tbody tr th:only-of-type {\n",
       "        vertical-align: middle;\n",
       "    }\n",
       "\n",
       "    .dataframe tbody tr th {\n",
       "        vertical-align: top;\n",
       "    }\n",
       "\n",
       "    .dataframe thead th {\n",
       "        text-align: right;\n",
       "    }\n",
       "</style>\n",
       "<table border=\"1\" class=\"dataframe\">\n",
       "  <thead>\n",
       "    <tr style=\"text-align: right;\">\n",
       "      <th></th>\n",
       "      <th>fixed acidity</th>\n",
       "      <th>volatile acidity</th>\n",
       "      <th>citric acid</th>\n",
       "      <th>residual sugar</th>\n",
       "      <th>chlorides</th>\n",
       "      <th>free sulfur dioxide</th>\n",
       "      <th>total sulfur dioxide</th>\n",
       "      <th>density</th>\n",
       "      <th>pH</th>\n",
       "      <th>sulphates</th>\n",
       "      <th>alcohol</th>\n",
       "      <th>quality</th>\n",
       "    </tr>\n",
       "  </thead>\n",
       "  <tbody>\n",
       "    <tr>\n",
       "      <th>0</th>\n",
       "      <td>7.0</td>\n",
       "      <td>0.27</td>\n",
       "      <td>0.36</td>\n",
       "      <td>20.7</td>\n",
       "      <td>0.045</td>\n",
       "      <td>45.0</td>\n",
       "      <td>170.0</td>\n",
       "      <td>1.0010</td>\n",
       "      <td>3.00</td>\n",
       "      <td>0.45</td>\n",
       "      <td>8.8</td>\n",
       "      <td>6</td>\n",
       "    </tr>\n",
       "    <tr>\n",
       "      <th>1</th>\n",
       "      <td>6.3</td>\n",
       "      <td>0.30</td>\n",
       "      <td>0.34</td>\n",
       "      <td>1.6</td>\n",
       "      <td>0.049</td>\n",
       "      <td>14.0</td>\n",
       "      <td>132.0</td>\n",
       "      <td>0.9940</td>\n",
       "      <td>3.30</td>\n",
       "      <td>0.49</td>\n",
       "      <td>9.5</td>\n",
       "      <td>6</td>\n",
       "    </tr>\n",
       "    <tr>\n",
       "      <th>2</th>\n",
       "      <td>8.1</td>\n",
       "      <td>0.28</td>\n",
       "      <td>0.40</td>\n",
       "      <td>6.9</td>\n",
       "      <td>0.050</td>\n",
       "      <td>30.0</td>\n",
       "      <td>97.0</td>\n",
       "      <td>0.9951</td>\n",
       "      <td>3.26</td>\n",
       "      <td>0.44</td>\n",
       "      <td>10.1</td>\n",
       "      <td>6</td>\n",
       "    </tr>\n",
       "    <tr>\n",
       "      <th>3</th>\n",
       "      <td>7.2</td>\n",
       "      <td>0.23</td>\n",
       "      <td>0.32</td>\n",
       "      <td>8.5</td>\n",
       "      <td>0.058</td>\n",
       "      <td>47.0</td>\n",
       "      <td>186.0</td>\n",
       "      <td>0.9956</td>\n",
       "      <td>3.19</td>\n",
       "      <td>0.40</td>\n",
       "      <td>9.9</td>\n",
       "      <td>6</td>\n",
       "    </tr>\n",
       "    <tr>\n",
       "      <th>4</th>\n",
       "      <td>7.2</td>\n",
       "      <td>0.23</td>\n",
       "      <td>0.32</td>\n",
       "      <td>8.5</td>\n",
       "      <td>0.058</td>\n",
       "      <td>47.0</td>\n",
       "      <td>186.0</td>\n",
       "      <td>0.9956</td>\n",
       "      <td>3.19</td>\n",
       "      <td>0.40</td>\n",
       "      <td>9.9</td>\n",
       "      <td>6</td>\n",
       "    </tr>\n",
       "  </tbody>\n",
       "</table>\n",
       "</div>"
      ],
      "text/plain": [
       "   fixed acidity  volatile acidity  citric acid  residual sugar  chlorides  \\\n",
       "0            7.0              0.27         0.36            20.7      0.045   \n",
       "1            6.3              0.30         0.34             1.6      0.049   \n",
       "2            8.1              0.28         0.40             6.9      0.050   \n",
       "3            7.2              0.23         0.32             8.5      0.058   \n",
       "4            7.2              0.23         0.32             8.5      0.058   \n",
       "\n",
       "   free sulfur dioxide  total sulfur dioxide  density    pH  sulphates  \\\n",
       "0                 45.0                 170.0   1.0010  3.00       0.45   \n",
       "1                 14.0                 132.0   0.9940  3.30       0.49   \n",
       "2                 30.0                  97.0   0.9951  3.26       0.44   \n",
       "3                 47.0                 186.0   0.9956  3.19       0.40   \n",
       "4                 47.0                 186.0   0.9956  3.19       0.40   \n",
       "\n",
       "   alcohol  quality  \n",
       "0      8.8        6  \n",
       "1      9.5        6  \n",
       "2     10.1        6  \n",
       "3      9.9        6  \n",
       "4      9.9        6  "
      ]
     },
     "execution_count": 23,
     "metadata": {},
     "output_type": "execute_result"
    }
   ],
   "source": [
    "data.head()"
   ]
  },
  {
   "cell_type": "code",
   "execution_count": 6,
   "id": "27f2b305-a272-4c0e-a5c1-7a97acb87af6",
   "metadata": {},
   "outputs": [],
   "source": [
    "# Split the data into training and test sets. (0.75, 0.25) split.\n",
    "train, test = train_test_split(data)"
   ]
  },
  {
   "cell_type": "code",
   "execution_count": 7,
   "id": "cb28b5da-4c28-4007-841e-25a53f33ba29",
   "metadata": {},
   "outputs": [],
   "source": [
    "# The predicted column is \"quality\" which is a scalar from [3, 9]\n",
    "train_x = train.drop([\"quality\"], axis=1)\n",
    "test_x = test.drop([\"quality\"], axis=1)\n",
    "train_y = train[[\"quality\"]]\n",
    "test_y = test[[\"quality\"]]"
   ]
  },
  {
   "cell_type": "markdown",
   "id": "e9198912-8e2d-481b-ae78-f829d02507dc",
   "metadata": {},
   "source": [
    "### Creating an experiment for this projects\n",
    "#### Run the below cell only on the first instance"
   ]
  },
  {
   "cell_type": "code",
   "execution_count": 27,
   "id": "457fbd7d-dabb-4fa1-aaab-c9c573bf9620",
   "metadata": {},
   "outputs": [],
   "source": [
    "EXPERIMENT_NAME = \"mlflow-demo-winequality\"\n",
    "EXPERIMENT_ID = mlflow.create_experiment(EXPERIMENT_NAME)"
   ]
  },
  {
   "cell_type": "code",
   "execution_count": 10,
   "id": "e12d9111-1c7f-4c13-836a-b17074749f9a",
   "metadata": {},
   "outputs": [
    {
     "name": "stdout",
     "output_type": "stream",
     "text": [
      "1\n"
     ]
    }
   ],
   "source": [
    "print(EXPERIMENT_ID)"
   ]
  },
  {
   "cell_type": "markdown",
   "id": "877d6871-753b-454f-9426-a4eb9f8cfca7",
   "metadata": {},
   "source": [
    "Change the alpha and l1 ratio values as required"
   ]
  },
  {
   "cell_type": "code",
   "execution_count": 30,
   "id": "67bcb4ee-0cd9-41e7-a6d0-763392be7d16",
   "metadata": {},
   "outputs": [],
   "source": [
    "alpha = float(0.6)\n",
    "l1_ratio = float(0.5)"
   ]
  },
  {
   "cell_type": "code",
   "execution_count": 31,
   "id": "dd13f95e-0431-4ff1-9c5a-fe70d5a80844",
   "metadata": {},
   "outputs": [
    {
     "name": "stdout",
     "output_type": "stream",
     "text": [
      "Elasticnet model (alpha=0.600000, l1_ratio=0.500000):\n",
      "  RMSE: 0.8346426818559769\n",
      "  MAE: 0.6333262824569528\n",
      "  R2: 0.10025166430470633\n"
     ]
    }
   ],
   "source": [
    "with mlflow.start_run(experiment_id=EXPERIMENT_ID, run_name=2) as run:\n",
    "    lr = ElasticNet(alpha=alpha, l1_ratio=l1_ratio, random_state=42)\n",
    "    lr.fit(train_x, train_y)\n",
    "\n",
    "    predicted_qualities = lr.predict(test_x)\n",
    "\n",
    "    (rmse, mae, r2) = eval_metrics(test_y, predicted_qualities)\n",
    "\n",
    "    print(\"Elasticnet model (alpha=%f, l1_ratio=%f):\" % (alpha, l1_ratio))\n",
    "    print(\"  RMSE: %s\" % rmse)\n",
    "    print(\"  MAE: %s\" % mae)\n",
    "    print(\"  R2: %s\" % r2)\n",
    "\n",
    "    mlflow.log_param(\"alpha\", alpha)\n",
    "    mlflow.log_param(\"l1_ratio\", l1_ratio)\n",
    "    mlflow.log_metric(\"rmse\", rmse)\n",
    "    mlflow.log_metric(\"r2\", r2)\n",
    "    mlflow.log_metric(\"mae\", mae)\n",
    "\n",
    "    mlflow.sklearn.log_model(lr, \"model\")"
   ]
  },
  {
   "cell_type": "code",
   "execution_count": null,
   "id": "17735c1e-21fc-47fa-86ba-2903e62a8909",
   "metadata": {},
   "outputs": [],
   "source": [
    "Run the below code on the terminal for the UI"
   ]
  },
  {
   "cell_type": "code",
   "execution_count": 13,
   "id": "e7a0a6f8-9a69-4bfc-abb5-7a7f71b8d0ca",
   "metadata": {},
   "outputs": [],
   "source": [
    "# !mlflow ui --host <port>\n"
   ]
  }
 ],
 "metadata": {
  "kernelspec": {
   "display_name": "AIF_0",
   "language": "python",
   "name": "aif_0"
  },
  "language_info": {
   "codemirror_mode": {
    "name": "ipython",
    "version": 3
   },
   "file_extension": ".py",
   "mimetype": "text/x-python",
   "name": "python",
   "nbconvert_exporter": "python",
   "pygments_lexer": "ipython3",
   "version": "3.9.12"
  }
 },
 "nbformat": 4,
 "nbformat_minor": 5
}
